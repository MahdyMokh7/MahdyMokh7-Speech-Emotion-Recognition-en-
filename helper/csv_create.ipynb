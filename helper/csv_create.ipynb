{
 "cells": [
  {
   "cell_type": "code",
   "execution_count": 2,
   "metadata": {},
   "outputs": [],
   "source": [
    "import os\n",
    "import pandas as pd\n",
    "import librosa\n",
    "\n",
    "crema_path = r\"..\\..\\DataSet\"\n",
    "data = []\n",
    "savingFilePath = os.path.join('..', \"Analytics\")\n",
    "\n",
    "sentence_map = {\n",
    "    'DFA': \"Don't forget a jacket.\",\n",
    "    'IEO': \"It's eleven o'clock.\",\n",
    "    'IOM': \"I'm on my way to the meeting.\",\n",
    "    'ITH': \"I think I have a doctor's appointment.\",\n",
    "    'ITS': \"I think I have seen this before\",\n",
    "    'IWL': \"I would like a new alarm clock.\",\n",
    "    'IWW': \"I wonder what this is about.\",\n",
    "    'MTI': \"Maybe tomorrow it will be cold.\",\n",
    "    'TAI': \"The airplane is almost full.\",\n",
    "    'TIE': \"That is exactly what happened.\",\n",
    "    'TSI': \"The surface is slick.\",\n",
    "    'WSI': \"We'll stop in a couple of minutes.\"\n",
    "}\n",
    "\n",
    "emotion_map = {\n",
    "    'ANG': 'Angry',\n",
    "    'DIS': 'Disgust',\n",
    "    'FEA': 'Fear',\n",
    "    'HAP': 'Happy',\n",
    "    'NEU': 'Neutral',\n",
    "    'SAD': 'Sad'\n",
    "}\n",
    "\n",
    "female_id_list = [\n",
    "    '1002', '1003', '1004', '1006', '1007', '1008', '1009', '1010', '1012', '1013', '1018', \n",
    "    '1020', '1021', '1024', '1025', '1028', '1029', '1030', '1037', '1043', '1046', '1047', \n",
    "    '1049', '1052', '1053', '1054', '1055', '1056', '1058', '1060', '1061', '1063', '1072', \n",
    "    '1073', '1074', '1075', '1076', '1078', '1079', '1082', '1084', '1089', '1091',\n",
    "]\n",
    "\n",
    "for file in os.listdir(crema_path):\n",
    "    if file.endswith(\".wav\"):\n",
    "        parts = file.split('_')\n",
    "        actor_id = parts[0]\n",
    "        sentence_code = parts[1]\n",
    "        emotion_code = parts[2]\n",
    "        intensity = parts[3].replace('.wav', '')\n",
    "        if intensity in [\"X\", \"XX\"]:\n",
    "            intensity = \"Unspecified\"\n",
    "\n",
    "        file_path = os.path.join(crema_path, file)\n",
    "        audio, sr = librosa.load(file_path, sr=None)\n",
    "        duration = len(audio) / sr\n",
    "\n",
    "        sex = 'Female' if actor_id in female_id_list else 'Male'\n",
    "\n",
    "        data.append({\n",
    "            'File Name': file,\n",
    "            'Actor ID': int(actor_id),\n",
    "            'Sex': sex,\n",
    "            'Sentence Code': sentence_code,\n",
    "            'Sentence': sentence_map.get(sentence_code, sentence_code),\n",
    "            'Emotion': emotion_map[emotion_code],\n",
    "            'Intensity': intensity,\n",
    "            'Duration (s)': round(duration, 2)\n",
    "        })\n",
    "\n",
    "df = pd.DataFrame(data)\n",
    "df.to_csv(os.path.join(savingFilePath, \"crema_d_dataset.csv\"), index=False)"
   ]
  },
  {
   "cell_type": "code",
   "execution_count": 3,
   "metadata": {},
   "outputs": [
    {
     "data": {
      "text/plain": [
       "count    7442.000000\n",
       "mean        2.543600\n",
       "std         0.505569\n",
       "min         1.270000\n",
       "25%         2.200000\n",
       "50%         2.500000\n",
       "75%         2.840000\n",
       "max         5.000000\n",
       "Name: Duration (s), dtype: float64"
      ]
     },
     "execution_count": 3,
     "metadata": {},
     "output_type": "execute_result"
    }
   ],
   "source": [
    "df_voice_duration = df[\"Duration (s)\"]\n",
    "\n",
    "df_voice_duration.describe()"
   ]
  },
  {
   "cell_type": "code",
   "execution_count": 4,
   "metadata": {},
   "outputs": [],
   "source": [
    "emotion_intensity_counts = df.groupby(['Emotion', 'Intensity']).size().reset_index(name='Count')\n",
    "\n",
    "emotion_intensity_counts.to_csv(os.path.join(savingFilePath, r\"emotion_entensity_count.csv\"), index=False)"
   ]
  },
  {
   "cell_type": "code",
   "execution_count": 5,
   "metadata": {},
   "outputs": [],
   "source": [
    "emotion_per_sentence = df.groupby(['Sentence', 'Emotion']).size().reset_index(name='Count')\n",
    "\n",
    "emotion_per_sentence.to_csv(os.path.join(savingFilePath, r\"sentence_emotion_count.csv\"), index=False)\n"
   ]
  },
  {
   "cell_type": "code",
   "execution_count": 6,
   "metadata": {},
   "outputs": [],
   "source": [
    "emotion_counts = df.groupby(['Emotion']).size().reset_index(name='Count')\n",
    "\n",
    "emotion_counts.to_csv(os.path.join(savingFilePath, r\"emotions_count.csv\"), index=False)"
   ]
  },
  {
   "cell_type": "code",
   "execution_count": 7,
   "metadata": {},
   "outputs": [],
   "source": [
    "sentence = df.groupby(['Sentence']).size().reset_index(name='Count')\n",
    "\n",
    "sentence.to_csv(os.path.join(savingFilePath, r\"sentences_count.csv\"), index=False)"
   ]
  }
 ],
 "metadata": {
  "kernelspec": {
   "display_name": "Python 3",
   "language": "python",
   "name": "python3"
  },
  "language_info": {
   "codemirror_mode": {
    "name": "ipython",
    "version": 3
   },
   "file_extension": ".py",
   "mimetype": "text/x-python",
   "name": "python",
   "nbconvert_exporter": "python",
   "pygments_lexer": "ipython3",
   "version": "3.12.5"
  }
 },
 "nbformat": 4,
 "nbformat_minor": 2
}
