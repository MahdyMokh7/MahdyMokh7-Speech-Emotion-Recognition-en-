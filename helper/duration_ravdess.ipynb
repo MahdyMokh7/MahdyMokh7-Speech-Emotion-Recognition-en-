{
 "cells": [
  {
   "cell_type": "code",
   "execution_count": 2,
   "metadata": {},
   "outputs": [
    {
     "name": "stdout",
     "output_type": "stream",
     "text": [
      "count    1440.000000\n",
      "mean        3.700368\n",
      "std         0.336267\n",
      "min         2.940000\n",
      "25%         3.470000\n",
      "50%         3.670000\n",
      "75%         3.870000\n",
      "max         5.270000\n",
      "Name: Duration (s), dtype: float64\n"
     ]
    }
   ],
   "source": [
    "import os\n",
    "import pandas as pd\n",
    "import librosa\n",
    "\n",
    "# Path to the main Ravdess dataset folder\n",
    "ravdess_path = r\"..\\..\\Ravdess_dataset\"\n",
    "data = []\n",
    "\n",
    "# Path where you want to save the output CSV\n",
    "savingFilePath = os.path.join('..', \"Analytics\")\n",
    "os.makedirs(savingFilePath, exist_ok=True)\n",
    "\n",
    "# Recursively walk through all subfolders (Actor_01 to Actor_24)\n",
    "for root, dirs, files in os.walk(ravdess_path):\n",
    "    for file in files:\n",
    "        if file.endswith(\".wav\"):\n",
    "            file_path = os.path.join(root, file)\n",
    "            try:\n",
    "                audio, sr = librosa.load(file_path, sr=None)\n",
    "                duration = len(audio) / sr\n",
    "\n",
    "                data.append({\n",
    "                    'File Name': file,\n",
    "                    'Actor Folder': os.path.basename(root),\n",
    "                    'Duration (s)': round(duration, 2)\n",
    "                })\n",
    "            except Exception as e:\n",
    "                print(f\"Error loading {file_path}: {e}\")\n",
    "\n",
    "# Save to CSV\n",
    "df = pd.DataFrame(data)\n",
    "csv_output_path = os.path.join(savingFilePath, \"Ravdess_dataset.csv\")\n",
    "df.to_csv(csv_output_path, index=False)\n",
    "\n",
    "# Display summary stats\n",
    "df_voice_duration = df[\"Duration (s)\"]\n",
    "print(df_voice_duration.describe())\n"
   ]
  }
 ],
 "metadata": {
  "kernelspec": {
   "display_name": "Python 3",
   "language": "python",
   "name": "python3"
  },
  "language_info": {
   "codemirror_mode": {
    "name": "ipython",
    "version": 3
   },
   "file_extension": ".py",
   "mimetype": "text/x-python",
   "name": "python",
   "nbconvert_exporter": "python",
   "pygments_lexer": "ipython3",
   "version": "3.11.5"
  }
 },
 "nbformat": 4,
 "nbformat_minor": 2
}
