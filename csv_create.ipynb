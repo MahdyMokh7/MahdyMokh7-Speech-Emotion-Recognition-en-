{
 "cells": [
  {
   "cell_type": "code",
   "execution_count": 15,
   "metadata": {},
   "outputs": [],
   "source": [
    "import os\n",
    "import pandas as pd\n",
    "\n",
    "crema_path = r\"C:\\Users\\Mahmodiyan-PC\\Desktop\\agha alborz\\term6\\datascience\\final project\\dataset_cremad\"\n",
    "data = []\n",
    "\n",
    "sentence_map = {\n",
    "    'DFA': \"Don't forget a jacket.\",\n",
    "    'IEO': \"It's eleven o'clock.\",\n",
    "    'IOM': \"I'm on my way to the meeting. \",\n",
    "    'ITH': \"I think I have a doctor's appointment.\",\n",
    "    'ITS': \"I think I have seen this before\",\n",
    "    'IWL': \"I would like a new alarm clock.\",\n",
    "    'IWW': \"I wonder what this is about.\",\n",
    "    'MTI': \"Maybe tomorrow it will be cold.\",\n",
    "    'TAI': \"The airplane is almost full.\",\n",
    "    'TIE': \"That is exactly what happen.\",\n",
    "    'TSI': \"the surface is sleck.\",\n",
    "    'WSI': \"We'll stop in a couple of minutes.\"\n",
    "}\n",
    "\n",
    "emotion_map = {\n",
    "    'ANG': 'Angry',\n",
    "    'DIS': 'Disgust',\n",
    "    'FEA': 'Fear',\n",
    "    'HAP': 'Happy',\n",
    "    'NEU': 'Neutral',\n",
    "    'SAD': 'Sad'\n",
    "}\n",
    "\n",
    "for file in os.listdir(crema_path):\n",
    "    if file.endswith(\".wav\"):\n",
    "        parts = file.split('_')\n",
    "        actor_id = parts[0]\n",
    "        sentence_code = parts[1]\n",
    "        emotion_code = parts[2]\n",
    "        intensity = parts[3].replace('.wav', '')\n",
    "        if(intensity == \"XX\" or intensity == \"X\"):\n",
    "            intensity = \"Unspecified\"\n",
    "\n",
    "        data.append({\n",
    "            'File Name': file,\n",
    "            'Actor ID': int(actor_id),\n",
    "            'Sentence Code': sentence_code,\n",
    "            'Sentence': sentence_map.get(sentence_code, sentence_code),\n",
    "            'Emotion': emotion_map[emotion_code],\n",
    "            'Intensity': intensity\n",
    "        })\n",
    "\n",
    "df = pd.DataFrame(data)\n",
    "df.to_csv(\"crema_d_dataset.csv\", index=False)\n"
   ]
  },
  {
   "cell_type": "code",
   "execution_count": null,
   "metadata": {},
   "outputs": [],
   "source": [
    "emotion_intensity_counts = df.groupby(['Emotion', 'Intensity']).size().reset_index(name='Count')\n",
    "\n",
    "emotion_intensity_counts.to_csv(\"emotion_entensity_count.csv\", index=False)"
   ]
  },
  {
   "cell_type": "code",
   "execution_count": null,
   "metadata": {},
   "outputs": [],
   "source": [
    "emotion_per_sentence = df.groupby(['Sentence', 'Emotion']).size().reset_index(name='Count')\n",
    "\n",
    "emotion_per_sentence.to_csv(\"sentence_emotion_count.csv\", index=False)\n"
   ]
  },
  {
   "cell_type": "code",
   "execution_count": null,
   "metadata": {},
   "outputs": [],
   "source": [
    "emotion_counts = df.groupby(['Emotion']).size().reset_index(name='Count')\n",
    "\n",
    "emotion_counts.to_csv(\"emotion_count.csv\", index=False)"
   ]
  },
  {
   "cell_type": "code",
   "execution_count": null,
   "metadata": {},
   "outputs": [],
   "source": [
    "sentence = df.groupby(['Sentence']).size().reset_index(name='Count')\n",
    "\n",
    "sentence.to_csv(\"sentence_count.csv\", index=False)"
   ]
  }
 ],
 "metadata": {
  "kernelspec": {
   "display_name": "Python 3",
   "language": "python",
   "name": "python3"
  },
  "language_info": {
   "codemirror_mode": {
    "name": "ipython",
    "version": 3
   },
   "file_extension": ".py",
   "mimetype": "text/x-python",
   "name": "python",
   "nbconvert_exporter": "python",
   "pygments_lexer": "ipython3",
   "version": "3.11.5"
  }
 },
 "nbformat": 4,
 "nbformat_minor": 2
}
